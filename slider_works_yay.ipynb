{
 "cells": [
  {
   "cell_type": "markdown",
   "metadata": {},
   "source": [
    "From here: https://blog.dominodatalab.com/interactive-dashboards-in-jupyter/\n",
    "\n",
    "Note I use `ipywidgets` instead because mybinder.org tells me that IPython.html has been deprecated"
   ]
  },
  {
   "cell_type": "code",
   "execution_count": 2,
   "metadata": {},
   "outputs": [
    {
     "data": {
      "application/vnd.jupyter.widget-view+json": {
       "model_id": "72cf8eb5a7c24fe1bbce582ca4e50459",
       "version_major": 2,
       "version_minor": 0
      },
      "text/plain": [
       "interactive(children=(FloatSlider(value=5.0, description='f', max=10.0, min=1.0, step=0.5), Output()), _dom_cl…"
      ]
     },
     "metadata": {},
     "output_type": "display_data"
    }
   ],
   "source": [
    "from ipywidgets import *\n",
    "import numpy as np\n",
    "import matplotlib.pyplot as plt\n",
    "\n",
    "t = np.arange(0.0, 1.0, 0.01)\n",
    "\n",
    "def pltsin(f=5):\n",
    "    plt.plot(t, np.sin(2*np.pi*t*f))\n",
    "    plt.show()\n",
    "    \n",
    "interactive(pltsin, f=(1,10,.5))"
   ]
  },
  {
   "cell_type": "code",
   "execution_count": 4,
   "metadata": {},
   "outputs": [
    {
     "data": {
      "application/vnd.jupyter.widget-view+json": {
       "model_id": "98f65b8dc10041e1ab8d0e0b982d6af4",
       "version_major": 2,
       "version_minor": 0
      },
      "text/plain": [
       "interactive(children=(IntSlider(value=10, description='x', max=30, min=-10), Output()), _dom_classes=('widget-…"
      ]
     },
     "metadata": {},
     "output_type": "display_data"
    }
   ],
   "source": [
    "def f(x):\n",
    "    return x\n",
    "interact(f, x=10);"
   ]
  },
  {
   "cell_type": "code",
   "execution_count": null,
   "metadata": {},
   "outputs": [],
   "source": []
  }
 ],
 "metadata": {
  "kernelspec": {
   "display_name": "Python 3",
   "language": "python",
   "name": "python3"
  },
  "language_info": {
   "codemirror_mode": {
    "name": "ipython",
    "version": 3
   },
   "file_extension": ".py",
   "mimetype": "text/x-python",
   "name": "python",
   "nbconvert_exporter": "python",
   "pygments_lexer": "ipython3",
   "version": "3.5.3"
  },
  "widgets": {
   "application/vnd.jupyter.widget-state+json": {
    "state": {
     "0094f180e22f44d8b9c7b5b77be28fa5": {
      "model_module": "@jupyter-widgets/base",
      "model_module_version": "1.0.0",
      "model_name": "LayoutModel",
      "state": {}
     },
     "02f942cb4ce54ae098de57656b7faf2c": {
      "model_module": "@jupyter-widgets/base",
      "model_module_version": "1.0.0",
      "model_name": "LayoutModel",
      "state": {}
     },
     "040cf54e3a1246d7a074ddc9cd3f0b45": {
      "model_module": "@jupyter-widgets/base",
      "model_module_version": "1.0.0",
      "model_name": "LayoutModel",
      "state": {}
     },
     "07e5973968854d2da942bdcc8a6d9fcb": {
      "model_module": "@jupyter-widgets/base",
      "model_module_version": "1.0.0",
      "model_name": "LayoutModel",
      "state": {}
     },
     "07fb3d02adf04a3181a53efcdf94ad3a": {
      "model_module": "@jupyter-widgets/base",
      "model_module_version": "1.0.0",
      "model_name": "LayoutModel",
      "state": {}
     },
     "091f623400844e689a4a68a690c2b189": {
      "model_module": "@jupyter-widgets/base",
      "model_module_version": "1.0.0",
      "model_name": "LayoutModel",
      "state": {}
     },
     "09e79751d9d84f7984b787620735392c": {
      "model_module": "@jupyter-widgets/base",
      "model_module_version": "1.0.0",
      "model_name": "LayoutModel",
      "state": {}
     },
     "0bc667c991ec47afae801afe1f59b1b8": {
      "model_module": "@jupyter-widgets/base",
      "model_module_version": "1.0.0",
      "model_name": "LayoutModel",
      "state": {}
     },
     "0c2ad6e25ad24277ba91e5d4a2d95c2d": {
      "model_module": "@jupyter-widgets/controls",
      "model_module_version": "1.2.0",
      "model_name": "FloatSliderModel",
      "state": {
       "description": "f",
       "layout": "IPY_MODEL_7625d09d433744d3ac22e3875cb06a1b",
       "max": 10,
       "min": 1,
       "step": 0.5,
       "style": "IPY_MODEL_52b857ec2bdf40c399d1500bdaa1ce29",
       "value": 5
      }
     },
     "0d92728df5a44e94b56826d02067d2be": {
      "model_module": "@jupyter-widgets/output",
      "model_module_version": "1.0.0",
      "model_name": "OutputModel",
      "state": {
       "layout": "IPY_MODEL_3bd8654501ba402686ebc2da43a21227",
       "outputs": [
        {
         "data": {
          "text/plain": "10"
         },
         "metadata": {},
         "output_type": "display_data"
        }
       ]
      }
     },
     "13b6fbc54be14f8c95337b8af59ded55": {
      "model_module": "@jupyter-widgets/base",
      "model_module_version": "1.0.0",
      "model_name": "LayoutModel",
      "state": {}
     },
     "13fd090a154d477f88ea20ab186b884b": {
      "model_module": "@jupyter-widgets/base",
      "model_module_version": "1.0.0",
      "model_name": "LayoutModel",
      "state": {}
     },
     "146f0929301846ac99f42974da1f91ea": {
      "model_module": "@jupyter-widgets/controls",
      "model_module_version": "1.2.0",
      "model_name": "IntSliderModel",
      "state": {
       "description": "x",
       "layout": "IPY_MODEL_d3e7970783624c58bb90a4866ad42b62",
       "max": 30,
       "min": -10,
       "style": "IPY_MODEL_e90c73ac42e84a6780f47aeb00a4a9b4",
       "value": 10
      }
     },
     "15bf5a7b14484f3db80f7014a8a7bef0": {
      "model_module": "@jupyter-widgets/base",
      "model_module_version": "1.0.0",
      "model_name": "LayoutModel",
      "state": {}
     },
     "164ba406262a41eb9bced9867d5e9c2e": {
      "model_module": "@jupyter-widgets/controls",
      "model_module_version": "1.2.0",
      "model_name": "SliderStyleModel",
      "state": {
       "description_width": ""
      }
     },
     "18626f81133c4fc3a2f0e75b44226a1d": {
      "model_module": "@jupyter-widgets/output",
      "model_module_version": "1.0.0",
      "model_name": "OutputModel",
      "state": {
       "layout": "IPY_MODEL_faa2b716fcc048a4911c38a2beb1a284",
       "outputs": [
        {
         "data": {
          "text/plain": "<matplotlib.figure.Figure at 0x7f5f7c136278>"
         },
         "metadata": {},
         "output_type": "display_data"
        }
       ]
      }
     },
     "1866d299b662403da1cfc889595a9124": {
      "model_module": "@jupyter-widgets/controls",
      "model_module_version": "1.2.0",
      "model_name": "VBoxModel",
      "state": {
       "_dom_classes": [
        "widget-interact"
       ],
       "children": [
        "IPY_MODEL_e3234a88a52644489b9a93f3ac30c554",
        "IPY_MODEL_cb7440d145f740d8bf5f0edf368efba1"
       ],
       "layout": "IPY_MODEL_040cf54e3a1246d7a074ddc9cd3f0b45"
      }
     },
     "19b938876c05416eb87f848118f67534": {
      "model_module": "@jupyter-widgets/controls",
      "model_module_version": "1.2.0",
      "model_name": "FloatSliderModel",
      "state": {
       "description": "f",
       "layout": "IPY_MODEL_4cf9375241594bea882b968000462dda",
       "max": 10,
       "min": 1,
       "step": 0.5,
       "style": "IPY_MODEL_b925689e9de8445dba2ae22919a11ffd",
       "value": 5
      }
     },
     "20c77168f407411c9ab76c6c4dbeb438": {
      "model_module": "@jupyter-widgets/controls",
      "model_module_version": "1.2.0",
      "model_name": "VBoxModel",
      "state": {
       "_dom_classes": [
        "widget-interact"
       ],
       "children": [
        "IPY_MODEL_19b938876c05416eb87f848118f67534",
        "IPY_MODEL_e7cdfc75d9b548a780e099286ee62f3f"
       ],
       "layout": "IPY_MODEL_091f623400844e689a4a68a690c2b189"
      }
     },
     "233a9902d8d74ba0892f270cb69610e1": {
      "model_module": "@jupyter-widgets/base",
      "model_module_version": "1.0.0",
      "model_name": "LayoutModel",
      "state": {}
     },
     "23d4ff306fb343e58108b0303cb4b36d": {
      "model_module": "@jupyter-widgets/base",
      "model_module_version": "1.0.0",
      "model_name": "LayoutModel",
      "state": {}
     },
     "252aad3df72944a6bf9b4c6620e75d1d": {
      "model_module": "@jupyter-widgets/output",
      "model_module_version": "1.0.0",
      "model_name": "OutputModel",
      "state": {
       "layout": "IPY_MODEL_3bc485c1369b43ec976c5970d1d80c60",
       "outputs": [
        {
         "data": {
          "text/plain": "10"
         },
         "metadata": {},
         "output_type": "display_data"
        }
       ]
      }
     },
     "256c032a737a4dd8b19e7083d68d6ffb": {
      "model_module": "@jupyter-widgets/controls",
      "model_module_version": "1.2.0",
      "model_name": "IntSliderModel",
      "state": {
       "description": "x",
       "layout": "IPY_MODEL_8bbf25d4e46f49c9a17c448f0014e4b8",
       "max": 30,
       "min": -10,
       "style": "IPY_MODEL_5360326aa9f445b8a1fbf7358f195363",
       "value": 10
      }
     },
     "25751bff1c1145fe8f4436e279a08804": {
      "model_module": "@jupyter-widgets/base",
      "model_module_version": "1.0.0",
      "model_name": "LayoutModel",
      "state": {}
     },
     "28225891e7474e97a7c600e9350dd267": {
      "model_module": "@jupyter-widgets/controls",
      "model_module_version": "1.2.0",
      "model_name": "FloatSliderModel",
      "state": {
       "description": "f",
       "layout": "IPY_MODEL_39506d9b4e514d3194a919798a485806",
       "max": 10,
       "min": 1,
       "step": 0.5,
       "style": "IPY_MODEL_5aaeaf927d5841e686fec5733dc0eef6",
       "value": 6.5
      }
     },
     "2870c5959c184431babc6f7debea931a": {
      "model_module": "@jupyter-widgets/base",
      "model_module_version": "1.0.0",
      "model_name": "LayoutModel",
      "state": {}
     },
     "28f75c80c09141d2965c8490781f1fa8": {
      "model_module": "@jupyter-widgets/output",
      "model_module_version": "1.0.0",
      "model_name": "OutputModel",
      "state": {
       "layout": "IPY_MODEL_7ffd49710e6d43beb1c8b6e5ac6ed5fb",
       "outputs": [
        {
         "data": {
          "text/plain": "<matplotlib.figure.Figure at 0x7fab0c47ec50>"
         },
         "metadata": {},
         "output_type": "display_data"
        }
       ]
      }
     },
     "2b689d8e9f4b42989e91e52ca1822bde": {
      "model_module": "@jupyter-widgets/base",
      "model_module_version": "1.0.0",
      "model_name": "LayoutModel",
      "state": {}
     },
     "3123ddcdbf9a4294a42c8cb211856176": {
      "model_module": "@jupyter-widgets/controls",
      "model_module_version": "1.2.0",
      "model_name": "VBoxModel",
      "state": {
       "_dom_classes": [
        "widget-interact"
       ],
       "children": [
        "IPY_MODEL_7466f1da07fb441f8cdc34afafd671ed",
        "IPY_MODEL_4eafbf6f42764994b138e426bde00e9e"
       ],
       "layout": "IPY_MODEL_5290800b76ae4b31b49d9e8f98107cb9"
      }
     },
     "31b9878324b34ef4b50446f49daaf395": {
      "model_module": "@jupyter-widgets/controls",
      "model_module_version": "1.2.0",
      "model_name": "FloatSliderModel",
      "state": {
       "description": "f",
       "layout": "IPY_MODEL_73b52b4d71244af48893a88559f90cb9",
       "max": 10,
       "min": 1,
       "step": 0.5,
       "style": "IPY_MODEL_78b81292e1ad43b1a3c142c8e3ef17b0",
       "value": 5
      }
     },
     "3251c75f4f0b4d6191ee30c4578dfac5": {
      "model_module": "@jupyter-widgets/controls",
      "model_module_version": "1.2.0",
      "model_name": "VBoxModel",
      "state": {
       "_dom_classes": [
        "widget-interact"
       ],
       "children": [
        "IPY_MODEL_932d4b6a3bbd425785bf525097674af7",
        "IPY_MODEL_5135d432fc924a3ca76193998fb260f4"
       ],
       "layout": "IPY_MODEL_4d89a9436e1141e096e5e796a8627109"
      }
     },
     "32e59729168b46acbcc6f9273680813c": {
      "model_module": "@jupyter-widgets/base",
      "model_module_version": "1.0.0",
      "model_name": "LayoutModel",
      "state": {}
     },
     "366ecde895e443909699219c26e9af7d": {
      "model_module": "@jupyter-widgets/controls",
      "model_module_version": "1.2.0",
      "model_name": "SliderStyleModel",
      "state": {
       "description_width": ""
      }
     },
     "389428dffa834ab29fb49e4732de5102": {
      "model_module": "@jupyter-widgets/base",
      "model_module_version": "1.0.0",
      "model_name": "LayoutModel",
      "state": {}
     },
     "39506d9b4e514d3194a919798a485806": {
      "model_module": "@jupyter-widgets/base",
      "model_module_version": "1.0.0",
      "model_name": "LayoutModel",
      "state": {}
     },
     "3bc485c1369b43ec976c5970d1d80c60": {
      "model_module": "@jupyter-widgets/base",
      "model_module_version": "1.0.0",
      "model_name": "LayoutModel",
      "state": {}
     },
     "3bd8654501ba402686ebc2da43a21227": {
      "model_module": "@jupyter-widgets/base",
      "model_module_version": "1.0.0",
      "model_name": "LayoutModel",
      "state": {}
     },
     "3d3f41b6f1ac4cd386839dba0e213192": {
      "model_module": "@jupyter-widgets/controls",
      "model_module_version": "1.2.0",
      "model_name": "SliderStyleModel",
      "state": {
       "description_width": ""
      }
     },
     "3e3f9ee1bd4243c3adb96cd345112126": {
      "model_module": "@jupyter-widgets/controls",
      "model_module_version": "1.2.0",
      "model_name": "SliderStyleModel",
      "state": {
       "description_width": ""
      }
     },
     "3f5d666d476b46f7b4d6783771b90ffb": {
      "model_module": "@jupyter-widgets/base",
      "model_module_version": "1.0.0",
      "model_name": "LayoutModel",
      "state": {}
     },
     "3feeed123e0f4f9b9324880a32dd5cc8": {
      "model_module": "@jupyter-widgets/controls",
      "model_module_version": "1.2.0",
      "model_name": "VBoxModel",
      "state": {
       "_dom_classes": [
        "widget-interact"
       ],
       "children": [
        "IPY_MODEL_146f0929301846ac99f42974da1f91ea",
        "IPY_MODEL_252aad3df72944a6bf9b4c6620e75d1d"
       ],
       "layout": "IPY_MODEL_233a9902d8d74ba0892f270cb69610e1"
      }
     },
     "44b2a200c1014fdbab4de3ac3dfea4f4": {
      "model_module": "@jupyter-widgets/output",
      "model_module_version": "1.0.0",
      "model_name": "OutputModel",
      "state": {
       "layout": "IPY_MODEL_15bf5a7b14484f3db80f7014a8a7bef0",
       "outputs": [
        {
         "data": {
          "text/plain": "10"
         },
         "metadata": {},
         "output_type": "display_data"
        }
       ]
      }
     },
     "4a87a22ed8ff4f9985dcb3b686cfef12": {
      "model_module": "@jupyter-widgets/controls",
      "model_module_version": "1.2.0",
      "model_name": "SliderStyleModel",
      "state": {
       "description_width": ""
      }
     },
     "4be85a35c47443908f20c901c4f72748": {
      "model_module": "@jupyter-widgets/controls",
      "model_module_version": "1.2.0",
      "model_name": "VBoxModel",
      "state": {
       "_dom_classes": [
        "widget-interact"
       ],
       "children": [
        "IPY_MODEL_31b9878324b34ef4b50446f49daaf395",
        "IPY_MODEL_da10352d17084935ade668c381410f8a"
       ],
       "layout": "IPY_MODEL_8a957bd886774d07a71d65c3c2669f60"
      }
     },
     "4c8108c228464741b5d3517c98454d34": {
      "model_module": "@jupyter-widgets/base",
      "model_module_version": "1.0.0",
      "model_name": "LayoutModel",
      "state": {}
     },
     "4cf9375241594bea882b968000462dda": {
      "model_module": "@jupyter-widgets/base",
      "model_module_version": "1.0.0",
      "model_name": "LayoutModel",
      "state": {}
     },
     "4d4a45fc81bc47a58c825a90e52cf2da": {
      "model_module": "@jupyter-widgets/output",
      "model_module_version": "1.0.0",
      "model_name": "OutputModel",
      "state": {
       "layout": "IPY_MODEL_d4663e7de388491c8ee32717e3349a4a",
       "outputs": [
        {
         "data": {
          "text/plain": "10"
         },
         "metadata": {},
         "output_type": "display_data"
        }
       ]
      }
     },
     "4d89a9436e1141e096e5e796a8627109": {
      "model_module": "@jupyter-widgets/base",
      "model_module_version": "1.0.0",
      "model_name": "LayoutModel",
      "state": {}
     },
     "4e05336318644d8790bf319909b30da5": {
      "model_module": "@jupyter-widgets/base",
      "model_module_version": "1.0.0",
      "model_name": "LayoutModel",
      "state": {}
     },
     "4eafbf6f42764994b138e426bde00e9e": {
      "model_module": "@jupyter-widgets/output",
      "model_module_version": "1.0.0",
      "model_name": "OutputModel",
      "state": {
       "layout": "IPY_MODEL_02f942cb4ce54ae098de57656b7faf2c",
       "outputs": [
        {
         "data": {
          "text/plain": "<matplotlib.figure.Figure at 0x7f1a30074390>"
         },
         "metadata": {},
         "output_type": "display_data"
        }
       ]
      }
     },
     "5135d432fc924a3ca76193998fb260f4": {
      "model_module": "@jupyter-widgets/output",
      "model_module_version": "1.0.0",
      "model_name": "OutputModel",
      "state": {
       "layout": "IPY_MODEL_c13f7c6b774942c0b0ac8fa05ae121aa",
       "outputs": [
        {
         "data": {
          "text/plain": "10"
         },
         "metadata": {},
         "output_type": "display_data"
        }
       ]
      }
     },
     "527e8cc291824133b72ff51b1048d4b4": {
      "model_module": "@jupyter-widgets/controls",
      "model_module_version": "1.2.0",
      "model_name": "IntSliderModel",
      "state": {
       "description": "x",
       "layout": "IPY_MODEL_f8a5745abeaf47c880b5e6c5475ed4a5",
       "max": 30,
       "min": -10,
       "style": "IPY_MODEL_ab1777bca0f24a859a5286432a26270a",
       "value": 10
      }
     },
     "5290800b76ae4b31b49d9e8f98107cb9": {
      "model_module": "@jupyter-widgets/base",
      "model_module_version": "1.0.0",
      "model_name": "LayoutModel",
      "state": {}
     },
     "52b857ec2bdf40c399d1500bdaa1ce29": {
      "model_module": "@jupyter-widgets/controls",
      "model_module_version": "1.2.0",
      "model_name": "SliderStyleModel",
      "state": {
       "description_width": ""
      }
     },
     "5360326aa9f445b8a1fbf7358f195363": {
      "model_module": "@jupyter-widgets/controls",
      "model_module_version": "1.2.0",
      "model_name": "SliderStyleModel",
      "state": {
       "description_width": ""
      }
     },
     "551f7be840cd4a5093d26a803937f1f9": {
      "model_module": "@jupyter-widgets/base",
      "model_module_version": "1.0.0",
      "model_name": "LayoutModel",
      "state": {}
     },
     "5553e93ca26047b182bb3a799ae9e5de": {
      "model_module": "@jupyter-widgets/base",
      "model_module_version": "1.0.0",
      "model_name": "LayoutModel",
      "state": {}
     },
     "593f6533579243be9ef77654d841e2c2": {
      "model_module": "@jupyter-widgets/output",
      "model_module_version": "1.0.0",
      "model_name": "OutputModel",
      "state": {
       "layout": "IPY_MODEL_7f8ad60e780c48ff8ec566e16a70014e",
       "outputs": [
        {
         "data": {
          "image/png": "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\n",
          "text/plain": "<matplotlib.figure.Figure at 0x7f1a04fc56d8>"
         },
         "metadata": {},
         "output_type": "display_data"
        }
       ]
      }
     },
     "597c69e303d746238ad9c2e5d05abafe": {
      "model_module": "@jupyter-widgets/base",
      "model_module_version": "1.0.0",
      "model_name": "LayoutModel",
      "state": {}
     },
     "5aaeaf927d5841e686fec5733dc0eef6": {
      "model_module": "@jupyter-widgets/controls",
      "model_module_version": "1.2.0",
      "model_name": "SliderStyleModel",
      "state": {
       "description_width": ""
      }
     },
     "5b9c15a6ef0748e0b3c5fa80fdb15227": {
      "model_module": "@jupyter-widgets/controls",
      "model_module_version": "1.2.0",
      "model_name": "SliderStyleModel",
      "state": {
       "description_width": ""
      }
     },
     "5eae1be65c44464cb8f29167d5f8398b": {
      "model_module": "@jupyter-widgets/base",
      "model_module_version": "1.0.0",
      "model_name": "LayoutModel",
      "state": {}
     },
     "5fc6814bb1584d579367c7ab12948010": {
      "model_module": "@jupyter-widgets/base",
      "model_module_version": "1.0.0",
      "model_name": "LayoutModel",
      "state": {}
     },
     "60d8a94347e449c49d4aa638525216c1": {
      "model_module": "@jupyter-widgets/output",
      "model_module_version": "1.0.0",
      "model_name": "OutputModel",
      "state": {
       "layout": "IPY_MODEL_85d30390a07f425a92c873a66cc7bb73",
       "outputs": [
        {
         "data": {
          "image/png": "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\n",
          "text/plain": "<matplotlib.figure.Figure at 0x7fbe693d1908>"
         },
         "metadata": {},
         "output_type": "display_data"
        }
       ]
      }
     },
     "6343be0e73d64af1902b70d389085cc1": {
      "model_module": "@jupyter-widgets/controls",
      "model_module_version": "1.2.0",
      "model_name": "VBoxModel",
      "state": {
       "_dom_classes": [
        "widget-interact"
       ],
       "children": [
        "IPY_MODEL_f0958bbc6bfd4d98b4a09479d0295184",
        "IPY_MODEL_c1cc1860ec714e5ab42b5316b9825ceb"
       ],
       "layout": "IPY_MODEL_2b689d8e9f4b42989e91e52ca1822bde"
      }
     },
     "6584899499cd45408cb59bd46f72d346": {
      "model_module": "@jupyter-widgets/controls",
      "model_module_version": "1.2.0",
      "model_name": "IntSliderModel",
      "state": {
       "description": "x",
       "layout": "IPY_MODEL_2870c5959c184431babc6f7debea931a",
       "max": 30,
       "min": -10,
       "style": "IPY_MODEL_a9f87e74f4364382b52ccc2a4b70a1f9",
       "value": 10
      }
     },
     "69f5b21706804d9685897fa29b6c0921": {
      "model_module": "@jupyter-widgets/base",
      "model_module_version": "1.0.0",
      "model_name": "LayoutModel",
      "state": {}
     },
     "70da9b24f1574e2db0f1e6a031d53e76": {
      "model_module": "@jupyter-widgets/controls",
      "model_module_version": "1.2.0",
      "model_name": "VBoxModel",
      "state": {
       "_dom_classes": [
        "widget-interact"
       ],
       "children": [
        "IPY_MODEL_c04b95f168c84d8cbff315c1340ce388",
        "IPY_MODEL_0d92728df5a44e94b56826d02067d2be"
       ],
       "layout": "IPY_MODEL_23d4ff306fb343e58108b0303cb4b36d"
      }
     },
     "72cf8eb5a7c24fe1bbce582ca4e50459": {
      "model_module": "@jupyter-widgets/controls",
      "model_module_version": "1.2.0",
      "model_name": "VBoxModel",
      "state": {
       "_dom_classes": [
        "widget-interact"
       ],
       "children": [
        "IPY_MODEL_7bdfa7e9a23b40849fbec7cc2ee94a8c",
        "IPY_MODEL_593f6533579243be9ef77654d841e2c2"
       ],
       "layout": "IPY_MODEL_8e0052688d594b53b25ae4152cab316a"
      }
     },
     "73b52b4d71244af48893a88559f90cb9": {
      "model_module": "@jupyter-widgets/base",
      "model_module_version": "1.0.0",
      "model_name": "LayoutModel",
      "state": {}
     },
     "7453d07233dd4b2aa56420d8eacecbe3": {
      "model_module": "@jupyter-widgets/output",
      "model_module_version": "1.0.0",
      "model_name": "OutputModel",
      "state": {
       "layout": "IPY_MODEL_4e05336318644d8790bf319909b30da5",
       "outputs": [
        {
         "data": {
          "text/plain": "10"
         },
         "metadata": {},
         "output_type": "display_data"
        }
       ]
      }
     },
     "7466f1da07fb441f8cdc34afafd671ed": {
      "model_module": "@jupyter-widgets/controls",
      "model_module_version": "1.2.0",
      "model_name": "FloatSliderModel",
      "state": {
       "description": "f",
       "layout": "IPY_MODEL_32e59729168b46acbcc6f9273680813c",
       "max": 10,
       "min": 1,
       "step": 0.5,
       "style": "IPY_MODEL_f292e6a138144f34ba777e0d018ea96d",
       "value": 5
      }
     },
     "7625d09d433744d3ac22e3875cb06a1b": {
      "model_module": "@jupyter-widgets/base",
      "model_module_version": "1.0.0",
      "model_name": "LayoutModel",
      "state": {}
     },
     "7661332c982741f98c09dbce860d0203": {
      "model_module": "@jupyter-widgets/base",
      "model_module_version": "1.0.0",
      "model_name": "LayoutModel",
      "state": {}
     },
     "78b81292e1ad43b1a3c142c8e3ef17b0": {
      "model_module": "@jupyter-widgets/controls",
      "model_module_version": "1.2.0",
      "model_name": "SliderStyleModel",
      "state": {
       "description_width": ""
      }
     },
     "79470dedca404fb995c35167ede81c09": {
      "model_module": "@jupyter-widgets/controls",
      "model_module_version": "1.2.0",
      "model_name": "VBoxModel",
      "state": {
       "_dom_classes": [
        "widget-interact"
       ],
       "children": [
        "IPY_MODEL_e1c7f5e9f70b47f58f1237f05568084d",
        "IPY_MODEL_18626f81133c4fc3a2f0e75b44226a1d"
       ],
       "layout": "IPY_MODEL_7a17f2a457d9498493e2dad0dbfdb2c3"
      }
     },
     "7a17f2a457d9498493e2dad0dbfdb2c3": {
      "model_module": "@jupyter-widgets/base",
      "model_module_version": "1.0.0",
      "model_name": "LayoutModel",
      "state": {}
     },
     "7a9f7846958c4892bfe69f1b1a3b1e1e": {
      "model_module": "@jupyter-widgets/controls",
      "model_module_version": "1.2.0",
      "model_name": "VBoxModel",
      "state": {
       "_dom_classes": [
        "widget-interact"
       ],
       "children": [
        "IPY_MODEL_256c032a737a4dd8b19e7083d68d6ffb",
        "IPY_MODEL_8501b06683c7432a98b319cc428a02b3"
       ],
       "layout": "IPY_MODEL_5eae1be65c44464cb8f29167d5f8398b"
      }
     },
     "7ae885072e784c13a9bf65c912b30663": {
      "model_module": "@jupyter-widgets/base",
      "model_module_version": "1.0.0",
      "model_name": "LayoutModel",
      "state": {}
     },
     "7bdfa7e9a23b40849fbec7cc2ee94a8c": {
      "model_module": "@jupyter-widgets/controls",
      "model_module_version": "1.2.0",
      "model_name": "FloatSliderModel",
      "state": {
       "description": "f",
       "layout": "IPY_MODEL_13b6fbc54be14f8c95337b8af59ded55",
       "max": 10,
       "min": 1,
       "step": 0.5,
       "style": "IPY_MODEL_e07300c44536464ebf73ce725d348344",
       "value": 5
      }
     },
     "7f8ad60e780c48ff8ec566e16a70014e": {
      "model_module": "@jupyter-widgets/base",
      "model_module_version": "1.0.0",
      "model_name": "LayoutModel",
      "state": {}
     },
     "7ffd49710e6d43beb1c8b6e5ac6ed5fb": {
      "model_module": "@jupyter-widgets/base",
      "model_module_version": "1.0.0",
      "model_name": "LayoutModel",
      "state": {}
     },
     "8501b06683c7432a98b319cc428a02b3": {
      "model_module": "@jupyter-widgets/output",
      "model_module_version": "1.0.0",
      "model_name": "OutputModel",
      "state": {
       "layout": "IPY_MODEL_fc348b365e0a4554822a1ebf159a1439",
       "outputs": [
        {
         "data": {
          "text/plain": "10"
         },
         "metadata": {},
         "output_type": "display_data"
        }
       ]
      }
     },
     "85d30390a07f425a92c873a66cc7bb73": {
      "model_module": "@jupyter-widgets/base",
      "model_module_version": "1.0.0",
      "model_name": "LayoutModel",
      "state": {}
     },
     "8a957bd886774d07a71d65c3c2669f60": {
      "model_module": "@jupyter-widgets/base",
      "model_module_version": "1.0.0",
      "model_name": "LayoutModel",
      "state": {}
     },
     "8bbf25d4e46f49c9a17c448f0014e4b8": {
      "model_module": "@jupyter-widgets/base",
      "model_module_version": "1.0.0",
      "model_name": "LayoutModel",
      "state": {}
     },
     "8e0052688d594b53b25ae4152cab316a": {
      "model_module": "@jupyter-widgets/base",
      "model_module_version": "1.0.0",
      "model_name": "LayoutModel",
      "state": {}
     },
     "900ebf5d13d544abad5ef8d71c0460a6": {
      "model_module": "@jupyter-widgets/controls",
      "model_module_version": "1.2.0",
      "model_name": "IntSliderModel",
      "state": {
       "description": "x",
       "layout": "IPY_MODEL_597c69e303d746238ad9c2e5d05abafe",
       "max": 30,
       "min": -10,
       "style": "IPY_MODEL_d1d6ffc8aea240bbace99c2bfa4f1e7a",
       "value": 10
      }
     },
     "932d4b6a3bbd425785bf525097674af7": {
      "model_module": "@jupyter-widgets/controls",
      "model_module_version": "1.2.0",
      "model_name": "IntSliderModel",
      "state": {
       "description": "x",
       "layout": "IPY_MODEL_7661332c982741f98c09dbce860d0203",
       "max": 30,
       "min": -10,
       "style": "IPY_MODEL_366ecde895e443909699219c26e9af7d",
       "value": 10
      }
     },
     "94ace2780da04ebaac5b26960763fbea": {
      "model_module": "@jupyter-widgets/base",
      "model_module_version": "1.0.0",
      "model_name": "LayoutModel",
      "state": {}
     },
     "98f65b8dc10041e1ab8d0e0b982d6af4": {
      "model_module": "@jupyter-widgets/controls",
      "model_module_version": "1.2.0",
      "model_name": "VBoxModel",
      "state": {
       "_dom_classes": [
        "widget-interact"
       ],
       "children": [
        "IPY_MODEL_900ebf5d13d544abad5ef8d71c0460a6",
        "IPY_MODEL_44b2a200c1014fdbab4de3ac3dfea4f4"
       ],
       "layout": "IPY_MODEL_4c8108c228464741b5d3517c98454d34"
      }
     },
     "a15196baf3a843d1b0178715636ddb98": {
      "model_module": "@jupyter-widgets/base",
      "model_module_version": "1.0.0",
      "model_name": "LayoutModel",
      "state": {}
     },
     "a25acc17621541dabefd2cb894c4b7a9": {
      "model_module": "@jupyter-widgets/controls",
      "model_module_version": "1.2.0",
      "model_name": "VBoxModel",
      "state": {
       "_dom_classes": [
        "widget-interact"
       ],
       "children": [
        "IPY_MODEL_28225891e7474e97a7c600e9350dd267",
        "IPY_MODEL_60d8a94347e449c49d4aa638525216c1"
       ],
       "layout": "IPY_MODEL_09e79751d9d84f7984b787620735392c"
      }
     },
     "a33bffb2d5f34195a9042e41c8d13f09": {
      "model_module": "@jupyter-widgets/controls",
      "model_module_version": "1.2.0",
      "model_name": "SliderStyleModel",
      "state": {
       "description_width": ""
      }
     },
     "a3cd8c57a2864e80aa7abde8e7cb2603": {
      "model_module": "@jupyter-widgets/controls",
      "model_module_version": "1.2.0",
      "model_name": "VBoxModel",
      "state": {
       "_dom_classes": [
        "widget-interact"
       ],
       "children": [
        "IPY_MODEL_f83b7ecd41d4475994ace522ddd0b0b3",
        "IPY_MODEL_f28f9be4e02e4a1d823604cda24f8715"
       ],
       "layout": "IPY_MODEL_94ace2780da04ebaac5b26960763fbea"
      }
     },
     "a42717910a764edb97b11013a644ab76": {
      "model_module": "@jupyter-widgets/controls",
      "model_module_version": "1.2.0",
      "model_name": "VBoxModel",
      "state": {
       "_dom_classes": [
        "widget-interact"
       ],
       "children": [
        "IPY_MODEL_ed35fa97539c41c0818680330b25bd6c",
        "IPY_MODEL_7453d07233dd4b2aa56420d8eacecbe3"
       ],
       "layout": "IPY_MODEL_07e5973968854d2da942bdcc8a6d9fcb"
      }
     },
     "a9f87e74f4364382b52ccc2a4b70a1f9": {
      "model_module": "@jupyter-widgets/controls",
      "model_module_version": "1.2.0",
      "model_name": "SliderStyleModel",
      "state": {
       "description_width": ""
      }
     },
     "ab1777bca0f24a859a5286432a26270a": {
      "model_module": "@jupyter-widgets/controls",
      "model_module_version": "1.2.0",
      "model_name": "SliderStyleModel",
      "state": {
       "description_width": ""
      }
     },
     "b925689e9de8445dba2ae22919a11ffd": {
      "model_module": "@jupyter-widgets/controls",
      "model_module_version": "1.2.0",
      "model_name": "SliderStyleModel",
      "state": {
       "description_width": ""
      }
     },
     "ba3370ed144c4d65ad1ca413e50b70dc": {
      "model_module": "@jupyter-widgets/controls",
      "model_module_version": "1.2.0",
      "model_name": "VBoxModel",
      "state": {
       "_dom_classes": [
        "widget-interact"
       ],
       "children": [
        "IPY_MODEL_faeb7a2dd5d6406487aee4a754c32421",
        "IPY_MODEL_28f75c80c09141d2965c8490781f1fa8"
       ],
       "layout": "IPY_MODEL_69f5b21706804d9685897fa29b6c0921"
      }
     },
     "bc46fd08fb4544469a8d0406115c1308": {
      "model_module": "@jupyter-widgets/base",
      "model_module_version": "1.0.0",
      "model_name": "LayoutModel",
      "state": {}
     },
     "bcaaa8b00ac946a0bd906e9fa4ece00c": {
      "model_module": "@jupyter-widgets/controls",
      "model_module_version": "1.2.0",
      "model_name": "SliderStyleModel",
      "state": {
       "description_width": ""
      }
     },
     "c04b95f168c84d8cbff315c1340ce388": {
      "model_module": "@jupyter-widgets/controls",
      "model_module_version": "1.2.0",
      "model_name": "IntSliderModel",
      "state": {
       "description": "x",
       "layout": "IPY_MODEL_3f5d666d476b46f7b4d6783771b90ffb",
       "max": 30,
       "min": -10,
       "style": "IPY_MODEL_164ba406262a41eb9bced9867d5e9c2e",
       "value": 10
      }
     },
     "c13f7c6b774942c0b0ac8fa05ae121aa": {
      "model_module": "@jupyter-widgets/base",
      "model_module_version": "1.0.0",
      "model_name": "LayoutModel",
      "state": {}
     },
     "c1cc1860ec714e5ab42b5316b9825ceb": {
      "model_module": "@jupyter-widgets/output",
      "model_module_version": "1.0.0",
      "model_name": "OutputModel",
      "state": {
       "layout": "IPY_MODEL_551f7be840cd4a5093d26a803937f1f9",
       "outputs": [
        {
         "data": {
          "text/plain": "<matplotlib.figure.Figure at 0x7fbe6bf5dba8>"
         },
         "metadata": {},
         "output_type": "display_data"
        }
       ]
      }
     },
     "c3b8de9e42ec483aba9c10c9759d88e2": {
      "model_module": "@jupyter-widgets/output",
      "model_module_version": "1.0.0",
      "model_name": "OutputModel",
      "state": {
       "layout": "IPY_MODEL_fd12356df9b845fb91a6f7847abacdcc",
       "outputs": [
        {
         "data": {
          "text/plain": "<matplotlib.figure.Figure at 0x7f3808bc2c50>"
         },
         "metadata": {},
         "output_type": "display_data"
        }
       ]
      }
     },
     "cb7440d145f740d8bf5f0edf368efba1": {
      "model_module": "@jupyter-widgets/output",
      "model_module_version": "1.0.0",
      "model_name": "OutputModel",
      "state": {
       "layout": "IPY_MODEL_5fc6814bb1584d579367c7ab12948010",
       "outputs": [
        {
         "data": {
          "text/plain": "<matplotlib.figure.Figure at 0x7fec5d26df98>"
         },
         "metadata": {},
         "output_type": "display_data"
        }
       ]
      }
     },
     "d1d6ffc8aea240bbace99c2bfa4f1e7a": {
      "model_module": "@jupyter-widgets/controls",
      "model_module_version": "1.2.0",
      "model_name": "SliderStyleModel",
      "state": {
       "description_width": ""
      }
     },
     "d3e7970783624c58bb90a4866ad42b62": {
      "model_module": "@jupyter-widgets/base",
      "model_module_version": "1.0.0",
      "model_name": "LayoutModel",
      "state": {}
     },
     "d4663e7de388491c8ee32717e3349a4a": {
      "model_module": "@jupyter-widgets/base",
      "model_module_version": "1.0.0",
      "model_name": "LayoutModel",
      "state": {}
     },
     "d5c5e77188b94e70807632e301a70d7f": {
      "model_module": "@jupyter-widgets/output",
      "model_module_version": "1.0.0",
      "model_name": "OutputModel",
      "state": {
       "layout": "IPY_MODEL_f59d0d6879a44bc2b1f099e5c549b925"
      }
     },
     "d68db75f7bd2428c8b2dfc59f2e77024": {
      "model_module": "@jupyter-widgets/base",
      "model_module_version": "1.0.0",
      "model_name": "LayoutModel",
      "state": {}
     },
     "da10352d17084935ade668c381410f8a": {
      "model_module": "@jupyter-widgets/output",
      "model_module_version": "1.0.0",
      "model_name": "OutputModel",
      "state": {
       "layout": "IPY_MODEL_7ae885072e784c13a9bf65c912b30663",
       "outputs": [
        {
         "data": {
          "image/png": "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\n",
          "text/plain": "<matplotlib.figure.Figure at 0x7f3806956358>"
         },
         "metadata": {},
         "output_type": "display_data"
        }
       ]
      }
     },
     "e07300c44536464ebf73ce725d348344": {
      "model_module": "@jupyter-widgets/controls",
      "model_module_version": "1.2.0",
      "model_name": "SliderStyleModel",
      "state": {
       "description_width": ""
      }
     },
     "e1c7f5e9f70b47f58f1237f05568084d": {
      "model_module": "@jupyter-widgets/controls",
      "model_module_version": "1.2.0",
      "model_name": "FloatSliderModel",
      "state": {
       "description": "f",
       "layout": "IPY_MODEL_a15196baf3a843d1b0178715636ddb98",
       "max": 10,
       "min": 1,
       "step": 0.5,
       "style": "IPY_MODEL_bcaaa8b00ac946a0bd906e9fa4ece00c",
       "value": 5
      }
     },
     "e3234a88a52644489b9a93f3ac30c554": {
      "model_module": "@jupyter-widgets/controls",
      "model_module_version": "1.2.0",
      "model_name": "FloatSliderModel",
      "state": {
       "description": "f",
       "layout": "IPY_MODEL_bc46fd08fb4544469a8d0406115c1308",
       "max": 10,
       "min": 1,
       "step": 0.5,
       "style": "IPY_MODEL_4a87a22ed8ff4f9985dcb3b686cfef12",
       "value": 5
      }
     },
     "e6aeb2ce10cb4fd4a2949cbd6f048f51": {
      "model_module": "@jupyter-widgets/controls",
      "model_module_version": "1.2.0",
      "model_name": "VBoxModel",
      "state": {
       "_dom_classes": [
        "widget-interact"
       ],
       "children": [
        "IPY_MODEL_527e8cc291824133b72ff51b1048d4b4",
        "IPY_MODEL_d5c5e77188b94e70807632e301a70d7f"
       ],
       "layout": "IPY_MODEL_389428dffa834ab29fb49e4732de5102"
      }
     },
     "e7cdfc75d9b548a780e099286ee62f3f": {
      "model_module": "@jupyter-widgets/output",
      "model_module_version": "1.0.0",
      "model_name": "OutputModel",
      "state": {
       "layout": "IPY_MODEL_25751bff1c1145fe8f4436e279a08804",
       "outputs": [
        {
         "data": {
          "image/png": "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\n",
          "text/plain": "<matplotlib.figure.Figure at 0x7faafdb1b400>"
         },
         "metadata": {},
         "output_type": "display_data"
        }
       ]
      }
     },
     "e90c73ac42e84a6780f47aeb00a4a9b4": {
      "model_module": "@jupyter-widgets/controls",
      "model_module_version": "1.2.0",
      "model_name": "SliderStyleModel",
      "state": {
       "description_width": ""
      }
     },
     "ea2345e219a74264a742505f9528bc35": {
      "model_module": "@jupyter-widgets/controls",
      "model_module_version": "1.2.0",
      "model_name": "VBoxModel",
      "state": {
       "_dom_classes": [
        "widget-interact"
       ],
       "children": [
        "IPY_MODEL_0c2ad6e25ad24277ba91e5d4a2d95c2d",
        "IPY_MODEL_c3b8de9e42ec483aba9c10c9759d88e2"
       ],
       "layout": "IPY_MODEL_5553e93ca26047b182bb3a799ae9e5de"
      }
     },
     "ed35fa97539c41c0818680330b25bd6c": {
      "model_module": "@jupyter-widgets/controls",
      "model_module_version": "1.2.0",
      "model_name": "IntSliderModel",
      "state": {
       "description": "x",
       "layout": "IPY_MODEL_0094f180e22f44d8b9c7b5b77be28fa5",
       "max": 30,
       "min": -10,
       "style": "IPY_MODEL_a33bffb2d5f34195a9042e41c8d13f09",
       "value": 10
      }
     },
     "efae89b1be814628b93bdf17af6a94f8": {
      "model_module": "@jupyter-widgets/base",
      "model_module_version": "1.0.0",
      "model_name": "LayoutModel",
      "state": {}
     },
     "f0958bbc6bfd4d98b4a09479d0295184": {
      "model_module": "@jupyter-widgets/controls",
      "model_module_version": "1.2.0",
      "model_name": "FloatSliderModel",
      "state": {
       "description": "f",
       "layout": "IPY_MODEL_0bc667c991ec47afae801afe1f59b1b8",
       "max": 10,
       "min": 1,
       "step": 0.5,
       "style": "IPY_MODEL_3d3f41b6f1ac4cd386839dba0e213192",
       "value": 5
      }
     },
     "f2314833b56c4275a8d9e001ac704714": {
      "model_module": "@jupyter-widgets/controls",
      "model_module_version": "1.2.0",
      "model_name": "VBoxModel",
      "state": {
       "_dom_classes": [
        "widget-interact"
       ],
       "children": [
        "IPY_MODEL_6584899499cd45408cb59bd46f72d346",
        "IPY_MODEL_4d4a45fc81bc47a58c825a90e52cf2da"
       ],
       "layout": "IPY_MODEL_efae89b1be814628b93bdf17af6a94f8"
      }
     },
     "f28f9be4e02e4a1d823604cda24f8715": {
      "model_module": "@jupyter-widgets/output",
      "model_module_version": "1.0.0",
      "model_name": "OutputModel",
      "state": {
       "layout": "IPY_MODEL_d68db75f7bd2428c8b2dfc59f2e77024",
       "outputs": [
        {
         "data": {
          "text/plain": "<matplotlib.figure.Figure at 0x7f4a766ab8d0>"
         },
         "metadata": {},
         "output_type": "display_data"
        }
       ]
      }
     },
     "f292e6a138144f34ba777e0d018ea96d": {
      "model_module": "@jupyter-widgets/controls",
      "model_module_version": "1.2.0",
      "model_name": "SliderStyleModel",
      "state": {
       "description_width": ""
      }
     },
     "f59d0d6879a44bc2b1f099e5c549b925": {
      "model_module": "@jupyter-widgets/base",
      "model_module_version": "1.0.0",
      "model_name": "LayoutModel",
      "state": {}
     },
     "f83b7ecd41d4475994ace522ddd0b0b3": {
      "model_module": "@jupyter-widgets/controls",
      "model_module_version": "1.2.0",
      "model_name": "FloatSliderModel",
      "state": {
       "description": "f",
       "layout": "IPY_MODEL_13fd090a154d477f88ea20ab186b884b",
       "max": 10,
       "min": 1,
       "step": 0.5,
       "style": "IPY_MODEL_5b9c15a6ef0748e0b3c5fa80fdb15227",
       "value": 5
      }
     },
     "f8a5745abeaf47c880b5e6c5475ed4a5": {
      "model_module": "@jupyter-widgets/base",
      "model_module_version": "1.0.0",
      "model_name": "LayoutModel",
      "state": {}
     },
     "faa2b716fcc048a4911c38a2beb1a284": {
      "model_module": "@jupyter-widgets/base",
      "model_module_version": "1.0.0",
      "model_name": "LayoutModel",
      "state": {}
     },
     "faeb7a2dd5d6406487aee4a754c32421": {
      "model_module": "@jupyter-widgets/controls",
      "model_module_version": "1.2.0",
      "model_name": "FloatSliderModel",
      "state": {
       "description": "f",
       "layout": "IPY_MODEL_07fb3d02adf04a3181a53efcdf94ad3a",
       "max": 10,
       "min": 1,
       "step": 0.5,
       "style": "IPY_MODEL_3e3f9ee1bd4243c3adb96cd345112126",
       "value": 5
      }
     },
     "fc348b365e0a4554822a1ebf159a1439": {
      "model_module": "@jupyter-widgets/base",
      "model_module_version": "1.0.0",
      "model_name": "LayoutModel",
      "state": {}
     },
     "fd12356df9b845fb91a6f7847abacdcc": {
      "model_module": "@jupyter-widgets/base",
      "model_module_version": "1.0.0",
      "model_name": "LayoutModel",
      "state": {}
     }
    },
    "version_major": 2,
    "version_minor": 0
   }
  }
 },
 "nbformat": 4,
 "nbformat_minor": 2
}
